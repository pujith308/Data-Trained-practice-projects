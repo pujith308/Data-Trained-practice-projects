{
 "cells": [
  {
   "cell_type": "markdown",
   "metadata": {},
   "source": [
    "# Advertising Sales Channel Prediction"
   ]
  },
  {
   "cell_type": "markdown",
   "metadata": {},
   "source": [
    "## Description"
   ]
  },
  {
   "cell_type": "raw",
   "metadata": {},
   "source": [
    "When a company enters a market, the distribution strategy and channel it uses are keys to its success in the market, as well as market know-how and customer knowledge and understanding. Because an effective distribution strategy under efficient supply-chain management opens doors for attaining competitive advantage and strong brand equity in the market, it is a component of the marketing mix that cannot be ignored . \n",
    "\n",
    "The distribution strategy and the channel design have to be right the first time. The case study of Sales channel includes the detailed study of TV, radio and newspaper channel. The predict the total sales generated from all the sales channel"
   ]
  },
  {
   "cell_type": "markdown",
   "metadata": {},
   "source": [
    "### Importing Required Libraries"
   ]
  },
  {
   "cell_type": "code",
   "execution_count": 58,
   "metadata": {},
   "outputs": [],
   "source": [
    "import pandas as pd\n",
    "import numpy as np\n",
    "import seaborn as sns\n",
    "import matplotlib.pyplot as plt\n",
    "import warnings\n",
    "warnings.filterwarnings('ignore')"
   ]
  },
  {
   "cell_type": "markdown",
   "metadata": {},
   "source": [
    "#### Loading Dataset"
   ]
  },
  {
   "cell_type": "code",
   "execution_count": 59,
   "metadata": {},
   "outputs": [],
   "source": [
    "df=pd.read_csv('Advertising.csv')"
   ]
  },
  {
   "cell_type": "code",
   "execution_count": 60,
   "metadata": {},
   "outputs": [
    {
     "data": {
      "text/html": [
       "<div>\n",
       "<style scoped>\n",
       "    .dataframe tbody tr th:only-of-type {\n",
       "        vertical-align: middle;\n",
       "    }\n",
       "\n",
       "    .dataframe tbody tr th {\n",
       "        vertical-align: top;\n",
       "    }\n",
       "\n",
       "    .dataframe thead th {\n",
       "        text-align: right;\n",
       "    }\n",
       "</style>\n",
       "<table border=\"1\" class=\"dataframe\">\n",
       "  <thead>\n",
       "    <tr style=\"text-align: right;\">\n",
       "      <th></th>\n",
       "      <th>Unnamed: 0</th>\n",
       "      <th>TV</th>\n",
       "      <th>radio</th>\n",
       "      <th>newspaper</th>\n",
       "      <th>sales</th>\n",
       "    </tr>\n",
       "  </thead>\n",
       "  <tbody>\n",
       "    <tr>\n",
       "      <th>0</th>\n",
       "      <td>1</td>\n",
       "      <td>230.1</td>\n",
       "      <td>37.8</td>\n",
       "      <td>69.2</td>\n",
       "      <td>22.1</td>\n",
       "    </tr>\n",
       "    <tr>\n",
       "      <th>1</th>\n",
       "      <td>2</td>\n",
       "      <td>44.5</td>\n",
       "      <td>39.3</td>\n",
       "      <td>45.1</td>\n",
       "      <td>10.4</td>\n",
       "    </tr>\n",
       "    <tr>\n",
       "      <th>2</th>\n",
       "      <td>3</td>\n",
       "      <td>17.2</td>\n",
       "      <td>45.9</td>\n",
       "      <td>69.3</td>\n",
       "      <td>9.3</td>\n",
       "    </tr>\n",
       "    <tr>\n",
       "      <th>3</th>\n",
       "      <td>4</td>\n",
       "      <td>151.5</td>\n",
       "      <td>41.3</td>\n",
       "      <td>58.5</td>\n",
       "      <td>18.5</td>\n",
       "    </tr>\n",
       "    <tr>\n",
       "      <th>4</th>\n",
       "      <td>5</td>\n",
       "      <td>180.8</td>\n",
       "      <td>10.8</td>\n",
       "      <td>58.4</td>\n",
       "      <td>12.9</td>\n",
       "    </tr>\n",
       "  </tbody>\n",
       "</table>\n",
       "</div>"
      ],
      "text/plain": [
       "   Unnamed: 0     TV  radio  newspaper  sales\n",
       "0           1  230.1   37.8       69.2   22.1\n",
       "1           2   44.5   39.3       45.1   10.4\n",
       "2           3   17.2   45.9       69.3    9.3\n",
       "3           4  151.5   41.3       58.5   18.5\n",
       "4           5  180.8   10.8       58.4   12.9"
      ]
     },
     "execution_count": 60,
     "metadata": {},
     "output_type": "execute_result"
    }
   ],
   "source": [
    "df.head()"
   ]
  },
  {
   "cell_type": "code",
   "execution_count": 61,
   "metadata": {},
   "outputs": [
    {
     "data": {
      "text/plain": [
       "(200, 5)"
      ]
     },
     "execution_count": 61,
     "metadata": {},
     "output_type": "execute_result"
    }
   ],
   "source": [
    "#checking the data dimension\n",
    "df.shape"
   ]
  },
  {
   "cell_type": "raw",
   "metadata": {},
   "source": [
    "There are 200 rows and 5 columns"
   ]
  },
  {
   "cell_type": "code",
   "execution_count": 62,
   "metadata": {},
   "outputs": [
    {
     "data": {
      "text/plain": [
       "Index(['Unnamed: 0', 'TV', 'radio', 'newspaper', 'sales'], dtype='object')"
      ]
     },
     "execution_count": 62,
     "metadata": {},
     "output_type": "execute_result"
    }
   ],
   "source": [
    "df.columns # the Sales is the target variable that we have to predict."
   ]
  },
  {
   "cell_type": "code",
   "execution_count": 63,
   "metadata": {},
   "outputs": [],
   "source": [
    "df.drop('Unnamed: 0',axis=1, inplace=True)"
   ]
  },
  {
   "cell_type": "markdown",
   "metadata": {},
   "source": [
    "Here Unnamed: 0 does not effect on target column so removed it."
   ]
  },
  {
   "cell_type": "code",
   "execution_count": 64,
   "metadata": {},
   "outputs": [
    {
     "data": {
      "text/html": [
       "<div>\n",
       "<style scoped>\n",
       "    .dataframe tbody tr th:only-of-type {\n",
       "        vertical-align: middle;\n",
       "    }\n",
       "\n",
       "    .dataframe tbody tr th {\n",
       "        vertical-align: top;\n",
       "    }\n",
       "\n",
       "    .dataframe thead th {\n",
       "        text-align: right;\n",
       "    }\n",
       "</style>\n",
       "<table border=\"1\" class=\"dataframe\">\n",
       "  <thead>\n",
       "    <tr style=\"text-align: right;\">\n",
       "      <th></th>\n",
       "      <th>TV</th>\n",
       "      <th>radio</th>\n",
       "      <th>newspaper</th>\n",
       "      <th>sales</th>\n",
       "    </tr>\n",
       "  </thead>\n",
       "  <tbody>\n",
       "    <tr>\n",
       "      <th>0</th>\n",
       "      <td>230.1</td>\n",
       "      <td>37.8</td>\n",
       "      <td>69.2</td>\n",
       "      <td>22.1</td>\n",
       "    </tr>\n",
       "    <tr>\n",
       "      <th>1</th>\n",
       "      <td>44.5</td>\n",
       "      <td>39.3</td>\n",
       "      <td>45.1</td>\n",
       "      <td>10.4</td>\n",
       "    </tr>\n",
       "    <tr>\n",
       "      <th>2</th>\n",
       "      <td>17.2</td>\n",
       "      <td>45.9</td>\n",
       "      <td>69.3</td>\n",
       "      <td>9.3</td>\n",
       "    </tr>\n",
       "    <tr>\n",
       "      <th>3</th>\n",
       "      <td>151.5</td>\n",
       "      <td>41.3</td>\n",
       "      <td>58.5</td>\n",
       "      <td>18.5</td>\n",
       "    </tr>\n",
       "    <tr>\n",
       "      <th>4</th>\n",
       "      <td>180.8</td>\n",
       "      <td>10.8</td>\n",
       "      <td>58.4</td>\n",
       "      <td>12.9</td>\n",
       "    </tr>\n",
       "  </tbody>\n",
       "</table>\n",
       "</div>"
      ],
      "text/plain": [
       "      TV  radio  newspaper  sales\n",
       "0  230.1   37.8       69.2   22.1\n",
       "1   44.5   39.3       45.1   10.4\n",
       "2   17.2   45.9       69.3    9.3\n",
       "3  151.5   41.3       58.5   18.5\n",
       "4  180.8   10.8       58.4   12.9"
      ]
     },
     "execution_count": 64,
     "metadata": {},
     "output_type": "execute_result"
    }
   ],
   "source": [
    "df.head()"
   ]
  },
  {
   "cell_type": "code",
   "execution_count": 65,
   "metadata": {},
   "outputs": [
    {
     "name": "stdout",
     "output_type": "stream",
     "text": [
      "<class 'pandas.core.frame.DataFrame'>\n",
      "RangeIndex: 200 entries, 0 to 199\n",
      "Data columns (total 4 columns):\n",
      " #   Column     Non-Null Count  Dtype  \n",
      "---  ------     --------------  -----  \n",
      " 0   TV         200 non-null    float64\n",
      " 1   radio      200 non-null    float64\n",
      " 2   newspaper  200 non-null    float64\n",
      " 3   sales      200 non-null    float64\n",
      "dtypes: float64(4)\n",
      "memory usage: 6.4 KB\n"
     ]
    }
   ],
   "source": [
    "#checking info\n",
    "df.info()"
   ]
  },
  {
   "cell_type": "code",
   "execution_count": 66,
   "metadata": {
    "scrolled": true
   },
   "outputs": [
    {
     "data": {
      "text/plain": [
       "TV           0\n",
       "radio        0\n",
       "newspaper    0\n",
       "sales        0\n",
       "dtype: int64"
      ]
     },
     "execution_count": 66,
     "metadata": {},
     "output_type": "execute_result"
    }
   ],
   "source": [
    "#checking null values\n",
    "df.isnull().sum()"
   ]
  },
  {
   "cell_type": "code",
   "execution_count": 67,
   "metadata": {},
   "outputs": [
    {
     "data": {
      "image/png": "[encoded data removed]",
      "text/plain": [
       "<Figure size 432x288 with 2 Axes>"
      ]
     },
     "metadata": {
      "needs_background": "light"
     },
     "output_type": "display_data"
    }
   ],
   "source": [
    "sns.heatmap(df.isnull())\n",
    "plt.title(\"Null Values\")\n",
    "plt.show()"
   ]
  },
  {
   "cell_type": "markdown",
   "metadata": {},
   "source": [
    "Observation: There is 0 NaN value"
   ]
  },
  {
   "cell_type": "code",
   "execution_count": 68,
   "metadata": {},
   "outputs": [
    {
     "data": {
      "text/plain": [
       "TV           float64\n",
       "radio        float64\n",
       "newspaper    float64\n",
       "sales        float64\n",
       "dtype: object"
      ]
     },
     "execution_count": 68,
     "metadata": {},
     "output_type": "execute_result"
    }
   ],
   "source": [
    "#checking Datatypes\n",
    "df.dtypes"
   ]
  },
  {
   "cell_type": "markdown",
   "metadata": {},
   "source": [
    "All columns are float type"
   ]
  },
  {
   "cell_type": "code",
   "execution_count": 69,
   "metadata": {},
   "outputs": [
    {
     "data": {
      "text/html": [
       "<div>\n",
       "<style scoped>\n",
       "    .dataframe tbody tr th:only-of-type {\n",
       "        vertical-align: middle;\n",
       "    }\n",
       "\n",
       "    .dataframe tbody tr th {\n",
       "        vertical-align: top;\n",
       "    }\n",
       "\n",
       "    .dataframe thead th {\n",
       "        text-align: right;\n",
       "    }\n",
       "</style>\n",
       "<table border=\"1\" class=\"dataframe\">\n",
       "  <thead>\n",
       "    <tr style=\"text-align: right;\">\n",
       "      <th></th>\n",
       "      <th>TV</th>\n",
       "      <th>radio</th>\n",
       "      <th>newspaper</th>\n",
       "      <th>sales</th>\n",
       "    </tr>\n",
       "  </thead>\n",
       "  <tbody>\n",
       "    <tr>\n",
       "      <th>count</th>\n",
       "      <td>200.000000</td>\n",
       "      <td>200.000000</td>\n",
       "      <td>200.000000</td>\n",
       "      <td>200.000000</td>\n",
       "    </tr>\n",
       "    <tr>\n",
       "      <th>mean</th>\n",
       "      <td>147.042500</td>\n",
       "      <td>23.264000</td>\n",
       "      <td>30.554000</td>\n",
       "      <td>14.022500</td>\n",
       "    </tr>\n",
       "    <tr>\n",
       "      <th>std</th>\n",
       "      <td>85.854236</td>\n",
       "      <td>14.846809</td>\n",
       "      <td>21.778621</td>\n",
       "      <td>5.217457</td>\n",
       "    </tr>\n",
       "    <tr>\n",
       "      <th>min</th>\n",
       "      <td>0.700000</td>\n",
       "      <td>0.000000</td>\n",
       "      <td>0.300000</td>\n",
       "      <td>1.600000</td>\n",
       "    </tr>\n",
       "    <tr>\n",
       "      <th>25%</th>\n",
       "      <td>74.375000</td>\n",
       "      <td>9.975000</td>\n",
       "      <td>12.750000</td>\n",
       "      <td>10.375000</td>\n",
       "    </tr>\n",
       "    <tr>\n",
       "      <th>50%</th>\n",
       "      <td>149.750000</td>\n",
       "      <td>22.900000</td>\n",
       "      <td>25.750000</td>\n",
       "      <td>12.900000</td>\n",
       "    </tr>\n",
       "    <tr>\n",
       "      <th>75%</th>\n",
       "      <td>218.825000</td>\n",
       "      <td>36.525000</td>\n",
       "      <td>45.100000</td>\n",
       "      <td>17.400000</td>\n",
       "    </tr>\n",
       "    <tr>\n",
       "      <th>max</th>\n",
       "      <td>296.400000</td>\n",
       "      <td>49.600000</td>\n",
       "      <td>114.000000</td>\n",
       "      <td>27.000000</td>\n",
       "    </tr>\n",
       "  </tbody>\n",
       "</table>\n",
       "</div>"
      ],
      "text/plain": [
       "               TV       radio   newspaper       sales\n",
       "count  200.000000  200.000000  200.000000  200.000000\n",
       "mean   147.042500   23.264000   30.554000   14.022500\n",
       "std     85.854236   14.846809   21.778621    5.217457\n",
       "min      0.700000    0.000000    0.300000    1.600000\n",
       "25%     74.375000    9.975000   12.750000   10.375000\n",
       "50%    149.750000   22.900000   25.750000   12.900000\n",
       "75%    218.825000   36.525000   45.100000   17.400000\n",
       "max    296.400000   49.600000  114.000000   27.000000"
      ]
     },
     "execution_count": 69,
     "metadata": {},
     "output_type": "execute_result"
    }
   ],
   "source": [
    "#statistical summary\n",
    "df.describe()"
   ]
  },
  {
   "cell_type": "markdown",
   "metadata": {},
   "source": [
    "Here we observe that TV have maximum sales than rest. "
   ]
  },
  {
   "cell_type": "markdown",
   "metadata": {},
   "source": [
    "## Uni-Variate Analysis"
   ]
  },
  {
   "cell_type": "code",
   "execution_count": 70,
   "metadata": {},
   "outputs": [
    {
     "data": {
      "image/png": "[encoded data removed]",
      "text/plain": [
       "<Figure size 1008x1584 with 4 Axes>"
      ]
     },
     "metadata": {
      "needs_background": "light"
     },
     "output_type": "display_data"
    }
   ],
   "source": [
    "#Numerical Data\n",
    "Columns= df.columns\n",
    "\n",
    "#  plot Numerical Data\n",
    "a = 4  # number of rows\n",
    "b = 3  # number of columns\n",
    "c = 1  # initialize plot counter\n",
    "\n",
    "fig = plt.figure(figsize=(14,22))\n",
    "\n",
    "for i in Columns:\n",
    "    plt.subplot(a, b, c)\n",
    "    plt.title('{} (dist), subplot: {}{}{}'.format(i, a, b, c))\n",
    "    plt.xlabel(i)\n",
    "    sns.distplot(df[i])\n",
    "    c = c + 1\n",
    "\n",
    "plt.show()"
   ]
  },
  {
   "cell_type": "markdown",
   "metadata": {},
   "source": [
    "Only Newspaper is right skewed."
   ]
  },
  {
   "cell_type": "code",
   "execution_count": 71,
   "metadata": {},
   "outputs": [
    {
     "data": {
      "image/png": "[encoded data removed]",
      "text/plain": [
       "<Figure size 1008x1584 with 3 Axes>"
      ]
     },
     "metadata": {
      "needs_background": "light"
     },
     "output_type": "display_data"
    }
   ],
   "source": [
    "Columns = ['TV', 'radio', 'newspaper']\n",
    "\n",
    "#  plot Numerical Data\n",
    "a = 4  # number of rows\n",
    "b = 3  # number of columns\n",
    "c = 1  # initialize plot counter\n",
    "\n",
    "fig = plt.figure(figsize=(14,22))\n",
    "\n",
    "for i in Columns:\n",
    "\n",
    "    \n",
    "    plt.subplot(a, b, c)\n",
    "    plt.title('{} (scatter), subplot: {}{}{}'.format(i, a, b, c))\n",
    "    plt.xlabel(i)\n",
    "    sns.scatterplot(data = df, x = i, y = 'sales')\n",
    "    c = c + 1\n",
    "\n",
    "plt.show()"
   ]
  },
  {
   "cell_type": "raw",
   "metadata": {},
   "source": [
    "1. If TV sales increases the target sales increases.\n",
    "2. If Radio sales increases the target sales increases.\n",
    "3. If newspaper increases the target sales increases."
   ]
  },
  {
   "cell_type": "markdown",
   "metadata": {},
   "source": [
    "### Multi Variate Analysis"
   ]
  },
  {
   "cell_type": "code",
   "execution_count": 72,
   "metadata": {},
   "outputs": [
    {
     "data": {
      "text/plain": [
       "<function matplotlib.pyplot.show(close=None, block=None)>"
      ]
     },
     "execution_count": 72,
     "metadata": {},
     "output_type": "execute_result"
    },
    {
     "data": {
      "image/png": "[encoded data removed]",
      "text/plain": [
       "<Figure size 720x720 with 20 Axes>"
      ]
     },
     "metadata": {
      "needs_background": "light"
     },
     "output_type": "display_data"
    }
   ],
   "source": [
    "#Checking normal distribution of each column\n",
    "sns.pairplot(df) \n",
    "plt.show"
   ]
  },
  {
   "cell_type": "code",
   "execution_count": 73,
   "metadata": {},
   "outputs": [
    {
     "data": {
      "image/png": "[encoded data removed]",
      "text/plain": [
       "<Figure size 2160x1440 with 24 Axes>"
      ]
     },
     "metadata": {
      "needs_background": "light"
     },
     "output_type": "display_data"
    }
   ],
   "source": [
    "#Checking normal distribution of each column\n",
    "df.plot(kind='density',subplots=True, layout=(6,4), sharex=False, legend=False, figsize=[30,20])\n",
    "plt.show()"
   ]
  },
  {
   "cell_type": "markdown",
   "metadata": {},
   "source": [
    "### Checking correlation"
   ]
  },
  {
   "cell_type": "code",
   "execution_count": 74,
   "metadata": {},
   "outputs": [
    {
     "data": {
      "text/html": [
       "<div>\n",
       "<style scoped>\n",
       "    .dataframe tbody tr th:only-of-type {\n",
       "        vertical-align: middle;\n",
       "    }\n",
       "\n",
       "    .dataframe tbody tr th {\n",
       "        vertical-align: top;\n",
       "    }\n",
       "\n",
       "    .dataframe thead th {\n",
       "        text-align: right;\n",
       "    }\n",
       "</style>\n",
       "<table border=\"1\" class=\"dataframe\">\n",
       "  <thead>\n",
       "    <tr style=\"text-align: right;\">\n",
       "      <th></th>\n",
       "      <th>TV</th>\n",
       "      <th>radio</th>\n",
       "      <th>newspaper</th>\n",
       "      <th>sales</th>\n",
       "    </tr>\n",
       "  </thead>\n",
       "  <tbody>\n",
       "    <tr>\n",
       "      <th>TV</th>\n",
       "      <td>1.000000</td>\n",
       "      <td>0.054809</td>\n",
       "      <td>0.056648</td>\n",
       "      <td>0.782224</td>\n",
       "    </tr>\n",
       "    <tr>\n",
       "      <th>radio</th>\n",
       "      <td>0.054809</td>\n",
       "      <td>1.000000</td>\n",
       "      <td>0.354104</td>\n",
       "      <td>0.576223</td>\n",
       "    </tr>\n",
       "    <tr>\n",
       "      <th>newspaper</th>\n",
       "      <td>0.056648</td>\n",
       "      <td>0.354104</td>\n",
       "      <td>1.000000</td>\n",
       "      <td>0.228299</td>\n",
       "    </tr>\n",
       "    <tr>\n",
       "      <th>sales</th>\n",
       "      <td>0.782224</td>\n",
       "      <td>0.576223</td>\n",
       "      <td>0.228299</td>\n",
       "      <td>1.000000</td>\n",
       "    </tr>\n",
       "  </tbody>\n",
       "</table>\n",
       "</div>"
      ],
      "text/plain": [
       "                 TV     radio  newspaper     sales\n",
       "TV         1.000000  0.054809   0.056648  0.782224\n",
       "radio      0.054809  1.000000   0.354104  0.576223\n",
       "newspaper  0.056648  0.354104   1.000000  0.228299\n",
       "sales      0.782224  0.576223   0.228299  1.000000"
      ]
     },
     "execution_count": 74,
     "metadata": {},
     "output_type": "execute_result"
    }
   ],
   "source": [
    "#Correlation\n",
    "df.corr()"
   ]
  },
  {
   "cell_type": "code",
   "execution_count": 75,
   "metadata": {},
   "outputs": [
    {
     "data": {
      "image/png": "[encoded data removed]",
      "text/plain": [
       "<Figure size 1080x720 with 2 Axes>"
      ]
     },
     "metadata": {
      "needs_background": "light"
     },
     "output_type": "display_data"
    }
   ],
   "source": [
    "#Heatmap for correlation\n",
    "plt.figure(figsize=[15,10])\n",
    "sns.heatmap(df.corr(),annot=True)\n",
    "plt.show()"
   ]
  },
  {
   "cell_type": "raw",
   "metadata": {},
   "source": [
    "Tv and radio are have good relationship to sales."
   ]
  },
  {
   "cell_type": "markdown",
   "metadata": {},
   "source": [
    "### Checking Outliers Using Boxplot"
   ]
  },
  {
   "cell_type": "code",
   "execution_count": 76,
   "metadata": {},
   "outputs": [
    {
     "data": {
      "text/plain": [
       "<AxesSubplot:>"
      ]
     },
     "execution_count": 76,
     "metadata": {},
     "output_type": "execute_result"
    },
    {
     "data": {
      "image/png": "[encoded data removed]",
      "text/plain": [
       "<Figure size 1440x576 with 1 Axes>"
      ]
     },
     "metadata": {
      "needs_background": "light"
     },
     "output_type": "display_data"
    }
   ],
   "source": [
    "df.boxplot(figsize=[20,8])"
   ]
  },
  {
   "cell_type": "code",
   "execution_count": 77,
   "metadata": {},
   "outputs": [
    {
     "data": {
      "image/png": "[encoded data removed]",
      "text/plain": [
       "<Figure size 1008x1584 with 4 Axes>"
      ]
     },
     "metadata": {
      "needs_background": "light"
     },
     "output_type": "display_data"
    }
   ],
   "source": [
    "Columns = df.columns\n",
    "\n",
    "#  plot Numerical Data\n",
    "a = 4  # number of rows\n",
    "b = 3  # number of columns\n",
    "c = 1  # initialize plot counter\n",
    "\n",
    "fig = plt.figure(figsize=(14,22))\n",
    "\n",
    "for i in Columns:\n",
    "    \n",
    "\n",
    "    plt.subplot(a, b, c)\n",
    "    plt.title('{} (box), subplot: {}{}{}'.format(i, a, b, c))\n",
    "    plt.xlabel(i)\n",
    "    plt.boxplot(x = df[i])\n",
    "    c = c + 1\n",
    "\n",
    "plt.show()"
   ]
  },
  {
   "cell_type": "raw",
   "metadata": {},
   "source": [
    "only in newspaper have 2 outliers. we are not removing them because they are not affecting the target variable."
   ]
  },
  {
   "cell_type": "markdown",
   "metadata": {},
   "source": [
    "### Splitting the independent and target variables in x and y"
   ]
  },
  {
   "cell_type": "code",
   "execution_count": 78,
   "metadata": {},
   "outputs": [],
   "source": [
    "x=df.drop(\"sales\",axis=1)\n",
    "y=df[\"sales\"]"
   ]
  },
  {
   "cell_type": "code",
   "execution_count": 79,
   "metadata": {},
   "outputs": [
    {
     "name": "stdout",
     "output_type": "stream",
     "text": [
      "(200, 3)\n",
      "(200,)\n"
     ]
    }
   ],
   "source": [
    "print(x.shape)\n",
    "print(y.shape)"
   ]
  },
  {
   "cell_type": "code",
   "execution_count": 80,
   "metadata": {},
   "outputs": [
    {
     "data": {
      "text/plain": [
       "TV          -0.069853\n",
       "radio        0.094175\n",
       "newspaper    0.894720\n",
       "dtype: float64"
      ]
     },
     "execution_count": 80,
     "metadata": {},
     "output_type": "execute_result"
    }
   ],
   "source": [
    "x.skew()"
   ]
  },
  {
   "cell_type": "code",
   "execution_count": 81,
   "metadata": {},
   "outputs": [],
   "source": [
    "from sklearn.preprocessing import PowerTransformer\n",
    "pt=PowerTransformer(method='yeo-johnson') \n",
    "x_new=pt.fit_transform(x)"
   ]
  },
  {
   "cell_type": "code",
   "execution_count": 85,
   "metadata": {},
   "outputs": [
    {
     "data": {
      "text/plain": [
       "array([[ 0.94867429,  0.96224689,  1.51433531],\n",
       "       [-1.19131426,  1.0401788 ,  0.78768252],\n",
       "       [-1.6477566 ,  1.37070964,  1.51699753],\n",
       "       [ 0.14102023,  1.14238689,  1.21465643],\n",
       "       [ 0.45271493, -0.74865064,  1.21170398],\n",
       "       [-1.82382233,  1.51501853,  1.66502354],\n",
       "       [-1.00249116,  0.69372704, -0.1077535 ],\n",
       "       [-0.210275  , -0.10158544, -0.84409341],\n",
       "       [-1.82609501, -1.63345378, -2.13259669],\n",
       "       [ 0.64764492, -1.56676988, -0.22900395],\n",
       "       [-0.88377378, -1.20298758, -0.07226156],\n",
       "       [ 0.79708355,  0.18072579, -1.60261898],\n",
       "       [-1.52641627,  0.81900563,  1.42512925],\n",
       "       [-0.48036844, -1.02813642, -1.22982506],\n",
       "       [ 0.69106577,  0.6992403 ,  0.81860579],\n",
       "       [ 0.60295713,  1.45770359,  1.04432344],\n",
       "       [-0.86079972,  0.89906999,  2.52943514],\n",
       "       [ 1.4355201 ,  1.05563142,  1.13383286],\n",
       "       [-0.84199328, -0.04209908, -0.39356015],\n",
       "       [ 0.09508551,  0.17453165, -0.34671544],\n",
       "       [ 0.8337607 ,  0.40367061,  1.05996548],\n",
       "       [ 1.01958629, -1.27567304, -0.1077535 ],\n",
       "       [-1.72701642, -0.35739289,  0.93875739],\n",
       "       [ 0.93109798, -0.28631129,  0.02589311],\n",
       "       [-0.93569772, -0.60431061, -0.39356015],\n",
       "       [ 1.26290943, -1.4550585 , -0.3237259 ],\n",
       "       [ 0.04659013,  0.49664406, -0.76867281],\n",
       "       [ 1.0456669 , -0.30040383, -0.1386789 ],\n",
       "       [ 1.12918152,  0.3682981 , -0.1386789 ],\n",
       "       [-0.82328646, -0.35021379,  0.63452018],\n",
       "       [ 1.54129731,  0.43876195,  0.72114861],\n",
       "       [-0.29553337, -0.25134036,  0.55235877],\n",
       "       [-0.48404243, -1.71918898,  0.20071936],\n",
       "       [ 1.28829734, -0.07502706, -2.32472495],\n",
       "       [-0.50245749, -1.7342107 , -1.20981332],\n",
       "       [ 1.52114819, -1.3853128 , -1.10471076],\n",
       "       [ 1.3004967 ,  1.2675887 , -1.47330873],\n",
       "       [-0.76905257,  1.53874417,  0.80833914],\n",
       "       [-1.21245403,  0.34455612,  0.4155984 ],\n",
       "       [ 0.92816503,  0.95701091,  0.28742321],\n",
       "       [ 0.67493776,  0.07409584,  0.27034854],\n",
       "       [ 0.41309098,  0.72671408,  0.55615392],\n",
       "       [ 1.54769995,  0.40367061, -1.95904851],\n",
       "       [ 0.71920943, -0.95499286,  0.03545918],\n",
       "       [-1.50359538,  0.28462118,  0.72469411],\n",
       "       [ 0.39319467,  0.08679116,  0.26605961],\n",
       "       [-0.57689562, -0.82396106,  0.43960934],\n",
       "       [ 1.04373768,  1.15250515, -0.3817378 ],\n",
       "       [ 0.92033882, -0.36458821,  0.94852755],\n",
       "       [-0.87294338, -0.67550361,  0.48300508],\n",
       "       [ 0.64764492, -1.50354208,  0.3953996 ],\n",
       "       [-0.44500506, -0.84958728, -1.65883577],\n",
       "       [ 0.81395585,  1.16260524,  0.59004665],\n",
       "       [ 0.47140703,  1.38529598,  1.22055211],\n",
       "       [ 1.2610261 ,  0.46779569, -0.54176985],\n",
       "       [ 0.63852563,  1.53874417,  1.25857888],\n",
       "       [-1.85624738,  0.42709558,  0.65646046],\n",
       "       [-0.02802214, -0.12834141, -0.49726342],\n",
       "       [ 0.75824197,  1.54820925,  0.51793191],\n",
       "       [ 0.75724354,  0.50813245, -1.03293213],\n",
       "       [-1.05927427, -1.64727037, -0.21815975],\n",
       "       [ 1.24783212,  1.21283741,  1.10022212],\n",
       "       [ 1.03794746, -0.38627294,  0.07797929],\n",
       "       [-0.41714955,  0.51386586, -1.11394312],\n",
       "       [-0.08546826,  1.21783637,  0.15154706],\n",
       "       [-0.84467375, -0.87549189, -2.1571572 ],\n",
       "       [-1.39531449,  0.21769395, -1.88378271],\n",
       "       [ 0.0066178 , -0.45966823, -0.95619942],\n",
       "       [ 1.01958629,  0.39191142, -0.8911416 ],\n",
       "       [ 0.81792069,  1.2725405 ,  0.07329661],\n",
       "       [ 0.64055308,  0.5708121 ,  0.55615392],\n",
       "       [-0.3321763 , -0.4745618 ,  0.27462933],\n",
       "       [-1.47420382,  0.70474737, -0.33518557],\n",
       "       [-0.10474749, -1.21318999,  0.25745713],\n",
       "       [ 0.7841573 ,  0.21769395, -0.73224866],\n",
       "       [-1.65352738,  1.26263268,  2.01064695],\n",
       "       [-1.46224158, -1.70439494, -0.25638211],\n",
       "       [-0.20680098,  0.45039797, -0.65484297],\n",
       "       [-1.90271957,  0.53102334, -1.02420602],\n",
       "       [-0.25915513, -1.01885558, -0.1283175 ],\n",
       "       [-0.74679627,  0.34455612, -0.17008941],\n",
       "       [ 1.04277291, -1.3853128 ,  0.48691113],\n",
       "       [-0.76118235, -0.05523482,  0.30858709],\n",
       "       [-0.85272745,  1.30216339,  0.43562451],\n",
       "       [ 0.78515237,  1.22782124,  0.36271243],\n",
       "       [ 0.58051341, -0.1824681 ,  1.41963599],\n",
       "       [-0.74810183,  0.39191142, -0.53534269],\n",
       "       [-0.32151022,  1.10682827,  1.35009138],\n",
       "       [-0.59445094,  0.27253204,  1.62418784],\n",
       "       [-0.3321763 ,  1.46250027,  0.99685054],\n",
       "       [-0.04935604, -1.29701657, -1.03293213],\n",
       "       [-1.44360046, -1.71918898,  0.32955606],\n",
       "       [ 0.8268345 ,  0.7321905 ,  1.22937273],\n",
       "       [ 1.14922339,  0.89377076,  1.59579653],\n",
       "       [-0.36073275, -0.49704225, -0.89912378],\n",
       "       [ 0.26831445,  0.62707446,  1.04432344],\n",
       "       [ 0.62533398, -1.4550585 , -1.3679351 ],\n",
       "       [ 0.49522053, -0.00946213, -0.18598289],\n",
       "       [ 1.51197614,  1.19279775,  0.99045745],\n",
       "       [-0.03924063,  1.16260524,  0.8151881 ],\n",
       "       [ 0.87322688, -1.36277082,  0.94527481],\n",
       "       [ 1.57327016,  0.88315609,  2.2628248 ],\n",
       "       [ 1.42441703, -0.80702634, -0.21815975],\n",
       "       [ 0.52616407, -0.26528466, -0.41743473],\n",
       "       [ 1.02732204,  0.77578583, -1.4371576 ],\n",
       "       [-0.00900053,  1.39500055,  1.22937273],\n",
       "       [-1.50533991, -0.73221674,  0.18741746],\n",
       "       [-0.56814506, -1.91962741, -0.12315678],\n",
       "       [-1.72906885, -1.90076688, -0.00306944],\n",
       "       [ 1.19202117,  0.35644335, -1.41364623],\n",
       "       [ 0.90662534, -0.97304835,  1.15501188],\n",
       "       [ 1.06108536,  0.97270342, -0.12315678],\n",
       "       [ 0.39948386, -0.39353456, -1.84832983],\n",
       "       [ 0.74625251, -0.0355487 , -0.91521378],\n",
       "       [-0.72337219,  1.41436293,  0.39133878],\n",
       "       [-0.76380392,  0.81362329,  1.03804144],\n",
       "       [ 0.00550359, -0.4745618 , -0.00306944],\n",
       "       [-0.74679627, -1.82997283, -0.6140794 ],\n",
       "       [-0.1469415 ,  0.91493549,  1.76974284],\n",
       "       [-1.60617806, -0.35021379, -0.17008941],\n",
       "       [ 0.02885793,  0.35050382,  0.82542768],\n",
       "       [-1.61739376,  0.0357579 ,  0.96473213],\n",
       "       [ 0.88896054, -1.59299019, -0.56119394],\n",
       "       [-0.17678774,  0.79203663, -0.78347482],\n",
       "       [ 0.94281959,  0.66606674,  1.64467302],\n",
       "       [-0.60829585, -0.66750027,  0.01146189],\n",
       "       [-1.84451116,  1.01950683,  0.9711866 ],\n",
       "       [-0.69751107, -1.9798635 , -1.04171092],\n",
       "       [ 0.85253082,  1.51977089, -1.71817136],\n",
       "       [-0.9730961 , -0.65156482,  0.71759813],\n",
       "       [-2.04026249,  1.05563142, -1.08642518],\n",
       "       [ 1.2845405 , -1.52845902,  0.71404265],\n",
       "       [-1.83065941,  0.37421339, -1.90202575],\n",
       "       [ 0.84759549,  0.7321905 ,  0.78768252],\n",
       "       [-1.30833884,  1.0039509 ,  1.41688552],\n",
       "       [-1.1347862 ,  1.42402092, -1.10471076],\n",
       "       [-1.49489926,  1.02468221, -1.03293213],\n",
       "       [ 1.36405418,  0.47358005,  1.2498484 ],\n",
       "       [-1.2139708 ,  0.2966758 , -0.26744284],\n",
       "       [ 0.49522053,  1.2725405 , -1.97889407],\n",
       "       [-0.78616198, -0.27928757, -0.74672069],\n",
       "       [ 0.58562018,  0.83511859,  1.68019945],\n",
       "       [ 0.85450412,  0.71574298,  0.52562487],\n",
       "       [-0.39426242, -1.21318999,  0.38727085],\n",
       "       [-0.49631074, -0.43746469,  0.56372647],\n",
       "       [ 0.01774834, -1.66126392, -1.05942991],\n",
       "       [ 1.0456669 , -1.05622936, -1.08642518],\n",
       "       [ 1.07551559,  1.51977089,  0.75987942],\n",
       "       [-1.29103896,  1.09151903, -0.82108927],\n",
       "       [-1.18830853,  0.29065278, -0.26190454],\n",
       "       [ 1.42904484, -0.50457379,  0.49081078],\n",
       "       [-0.20101603, -0.95499286,  0.90922967],\n",
       "       [ 0.62533398,  0.13716541, -0.65484297],\n",
       "       [ 0.35322947,  1.0607726 ,  0.51793191],\n",
       "       [ 0.52513474, -0.00296885, -1.01553176],\n",
       "       [-1.93665721, -0.68353104, -1.39057916],\n",
       "       [-0.52465633,  1.25270792,  0.96796131],\n",
       "       [ 0.12246872, -1.74947332, -0.06724139],\n",
       "       [-1.75822712,  0.91493549,  0.79113681],\n",
       "       [-0.07867963, -0.1824681 ,  0.3953996 ],\n",
       "       [ 0.36587519, -0.20298441,  0.23144984],\n",
       "       [-0.62724967,  0.85652391,  0.92895126],\n",
       "       [ 0.53130856, -0.20298441, -0.00306944],\n",
       "       [ 0.27045056,  0.90965233, -1.20981332],\n",
       "       [-0.24514238, -0.44484785, -1.42534498],\n",
       "       [ 0.99148599, -1.46701964,  1.90420913],\n",
       "       [-1.63438885,  0.95176976, -0.20737541],\n",
       "       [ 0.71820605, -1.26510158, -0.32944703],\n",
       "       [ 0.80403524,  0.15589202,  1.18797267],\n",
       "       [ 1.46230082, -0.76519122, -1.31304986],\n",
       "       [-1.10987617, -0.68353104, -0.38763953],\n",
       "       [ 0.28112073, -0.01596668,  0.86598739],\n",
       "       [-1.60245911, -0.06841773, -0.47232241],\n",
       "       [ 0.32257166, -1.07517365, -0.75400514],\n",
       "       [ 0.87322688, -1.46701964, -0.73224866],\n",
       "       [ 1.39381826,  1.51501853,  0.67098058],\n",
       "       [ 1.12535894,  0.54811736, -0.27856754],\n",
       "       [ 0.34161695, -1.00961537,  0.41961731],\n",
       "       [ 1.39196069, -1.60632069, -0.09754949],\n",
       "       [ 0.29283811, -0.81547901, -0.43554699],\n",
       "       [ 0.19634785, -1.56676988, -1.12323656],\n",
       "       [ 0.83474968, -1.2441519 ,  0.08265171],\n",
       "       [-1.02082882, -1.21318999,  0.18741746],\n",
       "       [ 1.49268741,  1.22782124,  1.58280405],\n",
       "       [ 1.17682728,  0.00998415,  0.20071936],\n",
       "       [ 0.70012304,  1.33163754, -0.31802204],\n",
       "       [ 0.0088456 , -1.63345378,  0.04498207],\n",
       "       [ 0.55902662,  0.46200391, -0.39949982],\n",
       "       [ 1.47796614, -0.50457379, -1.64450612],\n",
       "       [-1.61927178, -0.64363221, -0.11287487],\n",
       "       [-1.267656  ,  1.13225036, -1.37920552],\n",
       "       [-0.75856261, -0.74865064, -1.35676548],\n",
       "       [-1.6477566 , -1.3853128 ,  0.27034854],\n",
       "       [ 0.30559723,  1.1777216 , -1.65883577],\n",
       "       [ 0.12137572,  0.84583242, -1.35676548],\n",
       "       [-1.28790757, -1.43143631, -0.68257581],\n",
       "       [-0.52094879, -1.29701657, -1.14201102],\n",
       "       [ 0.41309098, -0.87549189, -1.31304986],\n",
       "       [ 1.45584317,  1.1777216 ,  1.43335009],\n",
       "       [ 0.96816082, -0.93708342, -1.08642518]])"
      ]
     },
     "execution_count": 85,
     "metadata": {},
     "output_type": "execute_result"
    }
   ],
   "source": [
    "x=x_new\n",
    "x"
   ]
  },
  {
   "cell_type": "code",
   "execution_count": 86,
   "metadata": {},
   "outputs": [
    {
     "data": {
      "text/plain": [
       "array([[0.8271509 , 0.83391432, 0.79088044],\n",
       "       [0.23493581, 0.85600341, 0.64118352],\n",
       "       [0.1086211 , 0.94968935, 0.79142888],\n",
       "       [0.60364273, 0.88497336, 0.72914393],\n",
       "       [0.68990034, 0.34897604, 0.7285357 ],\n",
       "       [0.05989711, 0.99059239, 0.82192355],\n",
       "       [0.28719024, 0.75780482, 0.45671577],\n",
       "       [0.50642617, 0.53238076, 0.30502322],\n",
       "       [0.05926817, 0.09818667, 0.03958012],\n",
       "       [0.74384478, 0.11708761, 0.4317371 ],\n",
       "       [0.3200438 , 0.22019838, 0.46402742],\n",
       "       [0.78520006, 0.6123993 , 0.14876023],\n",
       "       [0.14220052, 0.79331389, 0.7725032 ],\n",
       "       [0.43168118, 0.26975835, 0.22555908],\n",
       "       [0.75586096, 0.7593675 , 0.64755399],\n",
       "       [0.73147799, 0.974347  , 0.69405383],\n",
       "       [0.32640158, 0.8160074 , 1.        ],\n",
       "       [0.96187939, 0.86038331, 0.71249356],\n",
       "       [0.33160603, 0.54924163, 0.39783706],\n",
       "       [0.59093087, 0.61064363, 0.40748749],\n",
       "       [0.79535   , 0.67559097, 0.69727623],\n",
       "       [0.84677491, 0.19959636, 0.45671577],\n",
       "       [0.08668693, 0.45987448, 0.67230629],\n",
       "       [0.82228688, 0.48002191, 0.48424815],\n",
       "       [0.30567449, 0.3898879 , 0.39783706],\n",
       "       [0.91411155, 0.14875118, 0.41222354],\n",
       "       [0.57751038, 0.70194345, 0.32056053],\n",
       "       [0.85399239, 0.47602751, 0.45034486],\n",
       "       [0.87710402, 0.66556496, 0.45034486],\n",
       "       [0.33678291, 0.46190932, 0.60963072],\n",
       "       [0.99115191, 0.68553729, 0.62747695],\n",
       "       [0.48283198, 0.4899341 , 0.59270474],\n",
       "       [0.43066445, 0.07388581, 0.52026391],\n",
       "       [0.92113733, 0.53990849, 0.        ],\n",
       "       [0.42556831, 0.06962804, 0.22968168],\n",
       "       [0.9855759 , 0.16851997, 0.25133374],\n",
       "       [0.92451335, 0.92046067, 0.17539929],\n",
       "       [0.35179146, 0.99731721, 0.64543897],\n",
       "       [0.22908564, 0.65883551, 0.5645309 ],\n",
       "       [0.82147522, 0.83243023, 0.53812567],\n",
       "       [0.75139774, 0.58217602, 0.53460814],\n",
       "       [0.67893491, 0.7671547 , 0.59348658],\n",
       "       [0.99292376, 0.67559097, 0.07533259],\n",
       "       [0.76364937, 0.29049022, 0.48621885],\n",
       "       [0.14851591, 0.6418475 , 0.62820735],\n",
       "       [0.67342885, 0.58577439, 0.53372458],\n",
       "       [0.40496849, 0.32762999, 0.56947736],\n",
       "       [0.8534585 , 0.88784128, 0.40027257],\n",
       "       [0.81930941, 0.45783503, 0.67431902],\n",
       "       [0.32304097, 0.3697089 , 0.57841727],\n",
       "       [0.74384478, 0.13500896, 0.56036977],\n",
       "       [0.44146756, 0.32036647, 0.13717907],\n",
       "       [0.78986926, 0.89070406, 0.60046878],\n",
       "       [0.69507315, 0.95382372, 0.7303585 ],\n",
       "       [0.91359036, 0.69376664, 0.36730455],\n",
       "       [0.74132113, 0.99731721, 0.73819235],\n",
       "       [0.05092388, 0.68223057, 0.61415062],\n",
       "       [0.55686237, 0.52479702, 0.37647327],\n",
       "       [0.77445113, 1.        , 0.58561251],\n",
       "       [0.77417483, 0.70519973, 0.26612077],\n",
       "       [0.27147623, 0.09427048, 0.4339711 ],\n",
       "       [0.90993909, 0.90494191, 0.70556945],\n",
       "       [0.85185613, 0.45168869, 0.49497837],\n",
       "       [0.44917622, 0.70682481, 0.24943179],\n",
       "       [0.54096487, 0.90635882, 0.51013398],\n",
       "       [0.33086424, 0.31302405, 0.03452044],\n",
       "       [0.1784813 , 0.62287759, 0.09083801],\n",
       "       [0.56644854, 0.43088546, 0.28192839],\n",
       "       [0.84677491, 0.67225794, 0.29533088],\n",
       "       [0.79096647, 0.92186421, 0.49401369],\n",
       "       [0.7418822 , 0.7229657 , 0.59348658],\n",
       "       [0.47269151, 0.42666402, 0.53549002],\n",
       "       [0.15664966, 0.76092843, 0.40986275],\n",
       "       [0.53562959, 0.2173066 , 0.53195239],\n",
       "       [0.78162288, 0.62287759, 0.32806423],\n",
       "       [0.10702411, 0.91905593, 0.89312503],\n",
       "       [0.15996006, 0.07807905, 0.42609696],\n",
       "       [0.50738756, 0.68883542, 0.34401049],\n",
       "       [0.03806328, 0.71168794, 0.26791843],\n",
       "       [0.4928992 , 0.27238892, 0.4524794 ],\n",
       "       [0.35795061, 0.65883551, 0.44387402],\n",
       "       [0.85319152, 0.16851997, 0.57922195],\n",
       "       [0.35396944, 0.54551842, 0.54248562],\n",
       "       [0.32863548, 0.93026055, 0.56865645],\n",
       "       [0.78189825, 0.90918894, 0.55363592],\n",
       "       [0.72526698, 0.50945531, 0.77137154],\n",
       "       [0.35758931, 0.67225794, 0.3686286 ],\n",
       "       [0.47564321, 0.87489459, 0.75704473],\n",
       "       [0.40011028, 0.63842094, 0.81351103],\n",
       "       [0.47269151, 0.97570657, 0.68427399],\n",
       "       [0.55095848, 0.19354673, 0.26612077],\n",
       "       [0.16511876, 0.07388581, 0.54680541],\n",
       "       [0.79343326, 0.76870694, 0.73217562],\n",
       "       [0.88265036, 0.81450538, 0.80766217],\n",
       "       [0.46478886, 0.42029214, 0.29368648],\n",
       "       [0.63886982, 0.73891276, 0.69405383],\n",
       "       [0.73767051, 0.14875118, 0.19710719],\n",
       "       [0.70166324, 0.55849227, 0.44059982],\n",
       "       [0.98303764, 0.89926185, 0.68295696],\n",
       "       [0.55375779, 0.89070406, 0.64684992],\n",
       "       [0.80627177, 0.17490928, 0.67364893],\n",
       "       [1.        , 0.81149675, 0.94507591],\n",
       "       [0.95880676, 0.33242998, 0.4339711 ],\n",
       "       [0.71022648, 0.48598171, 0.39291869],\n",
       "       [0.84891568, 0.78106363, 0.18284674],\n",
       "       [0.56212636, 0.95657439, 0.73217562],\n",
       "       [0.14803314, 0.35363408, 0.5175236 ],\n",
       "       [0.4073901 , 0.01707337, 0.45354255],\n",
       "       [0.08611895, 0.02241921, 0.47828161],\n",
       "       [0.89449411, 0.66220484, 0.18769029],\n",
       "       [0.81551438, 0.28537256, 0.71685663],\n",
       "       [0.85825926, 0.83687813, 0.45354255],\n",
       "       [0.67516931, 0.44963045, 0.09814162],\n",
       "       [0.7711332 , 0.55109827, 0.29037179],\n",
       "       [0.36443293, 0.96206248, 0.5595332 ],\n",
       "       [0.35324396, 0.79178832, 0.69275968],\n",
       "       [0.56614019, 0.42666402, 0.47828161],\n",
       "       [0.35795061, 0.04248514, 0.35240814],\n",
       "       [0.52395292, 0.82050434, 0.84349665],\n",
       "       [0.12012744, 0.46190932, 0.44387402],\n",
       "       [0.57260322, 0.66052133, 0.64895936],\n",
       "       [0.11702364, 0.57130948, 0.67765731],\n",
       "       [0.81062587, 0.1096557 , 0.36330302],\n",
       "       [0.51569335, 0.78566978, 0.31751119],\n",
       "       [0.82553068, 0.74996476, 0.81773116],\n",
       "       [0.39627887, 0.37197737, 0.48127519],\n",
       "       [0.05417173, 0.85014413, 0.67898699],\n",
       "       [0.37158967, 0.        , 0.26431226],\n",
       "       [0.8005444 , 0.9919394 , 0.12495541],\n",
       "       [0.29532496, 0.37649413, 0.62674552],\n",
       "       [0.        , 0.86038331, 0.25510073],\n",
       "       [0.92009768, 0.12794648, 0.62601306],\n",
       "       [0.05800503, 0.66724159, 0.08707978],\n",
       "       [0.7991786 , 0.76870694, 0.64118352],\n",
       "       [0.20255072, 0.84573494, 0.77080492],\n",
       "       [0.25057925, 0.96479995, 0.25133374],\n",
       "       [0.15092246, 0.85161104, 0.26612077],\n",
       "       [0.94210209, 0.69540617, 0.73639379],\n",
       "       [0.2286659 , 0.64526427, 0.42381835],\n",
       "       [0.70166324, 0.92186421, 0.07124423],\n",
       "       [0.34705664, 0.48201271, 0.32508286],\n",
       "       [0.72668021, 0.79788096, 0.82504992],\n",
       "       [0.80109048, 0.76404504, 0.58719732],\n",
       "       [0.45550995, 0.2173066 , 0.55869517],\n",
       "       [0.42726935, 0.43717885, 0.59504659],\n",
       "       [0.56952878, 0.09030414, 0.26066199],\n",
       "       [0.85399239, 0.26179566, 0.25510073],\n",
       "       [0.86225264, 0.9919394 , 0.63545584],\n",
       "       [0.20733825, 0.87055533, 0.30976228],\n",
       "       [0.23576761, 0.6435571 , 0.42495929],\n",
       "       [0.96008745, 0.41815739, 0.58002531],\n",
       "       [0.50898847, 0.29049022, 0.66622331],\n",
       "       [0.73767051, 0.60005251, 0.34401049],\n",
       "       [0.66236899, 0.86184053, 0.58561251],\n",
       "       [0.70994162, 0.56033273, 0.2697054 ],\n",
       "       [0.02867147, 0.36743359, 0.19244231],\n",
       "       [0.41942506, 0.91624284, 0.67832255],\n",
       "       [0.59850883, 0.06530199, 0.46506162],\n",
       "       [0.07804976, 0.82050434, 0.64189514],\n",
       "       [0.54284354, 0.50945531, 0.56036977],\n",
       "       [0.66586853, 0.50364015, 0.52659466],\n",
       "       [0.39103364, 0.80394811, 0.67028613],\n",
       "       [0.71165015, 0.50364015, 0.47828161],\n",
       "       [0.63946096, 0.81900687, 0.22968168],\n",
       "       [0.49677705, 0.43508617, 0.18528024],\n",
       "       [0.8389985 , 0.14536091, 0.8711979 ],\n",
       "       [0.11232046, 0.83094467, 0.43619277],\n",
       "       [0.76337169, 0.20259274, 0.41104494],\n",
       "       [0.78712385, 0.6053604 , 0.72364684],\n",
       "       [0.96929062, 0.34428776, 0.20841403],\n",
       "       [0.25747278, 0.36743359, 0.39905676],\n",
       "       [0.64241379, 0.55664862, 0.65731502],\n",
       "       [0.12115661, 0.54178185, 0.38161134],\n",
       "       [0.65388482, 0.25642608, 0.3235822 ],\n",
       "       [0.80627177, 0.14536091, 0.32806423],\n",
       "       [0.95033893, 0.99059239, 0.61714189],\n",
       "       [0.87604617, 0.71653308, 0.42152656],\n",
       "       [0.65915537, 0.27500797, 0.56535883],\n",
       "       [0.94982487, 0.1058773 , 0.45881788],\n",
       "       [0.64565643, 0.33003415, 0.3891874 ],\n",
       "       [0.61895396, 0.11708761, 0.24751726],\n",
       "       [0.79562369, 0.20853073, 0.49594093],\n",
       "       [0.28211553, 0.2173066 , 0.5175236 ],\n",
       "       [0.97769973, 0.90918894, 0.80498561],\n",
       "       [0.89028939, 0.56400414, 0.52026391],\n",
       "       [0.75836745, 0.93861472, 0.41339858],\n",
       "       [0.56706505, 0.09818667, 0.48818065],\n",
       "       [0.71932078, 0.69212501, 0.39661344],\n",
       "       [0.9736258 , 0.41815739, 0.14013111],\n",
       "       [0.11650392, 0.37874255, 0.45566072],\n",
       "       [0.21380919, 0.88210025, 0.19478538],\n",
       "       [0.35469442, 0.34897604, 0.19940823],\n",
       "       [0.1086211 , 0.16851997, 0.53460814],\n",
       "       [0.64918736, 0.89498866, 0.13717907],\n",
       "       [0.59820636, 0.8009177 , 0.19940823],\n",
       "       [0.20820482, 0.15544668, 0.33829728],\n",
       "       [0.42045108, 0.19354673, 0.24364955],\n",
       "       [0.67893491, 0.31302405, 0.20841403],\n",
       "       [0.96750355, 0.89498866, 0.77419677],\n",
       "       [0.83254355, 0.29556649, 0.25510073]])"
      ]
     },
     "execution_count": 86,
     "metadata": {},
     "output_type": "execute_result"
    }
   ],
   "source": [
    "from sklearn.preprocessing import MinMaxScaler\n",
    "scale=MinMaxScaler()\n",
    "x=scale.fit_transform(x)\n",
    "x"
   ]
  },
  {
   "cell_type": "markdown",
   "metadata": {},
   "source": [
    "### Finding Best Random State"
   ]
  },
  {
   "cell_type": "markdown",
   "metadata": {},
   "source": [
    "Here we find the random state which we will use to build the model."
   ]
  },
  {
   "cell_type": "code",
   "execution_count": 88,
   "metadata": {},
   "outputs": [],
   "source": [
    "from sklearn.linear_model import LinearRegression\n",
    "from sklearn.model_selection import train_test_split\n",
    "from sklearn.metrics import r2_score,mean_squared_error, mean_absolute_error"
   ]
  },
  {
   "cell_type": "code",
   "execution_count": 89,
   "metadata": {},
   "outputs": [
    {
     "name": "stdout",
     "output_type": "stream",
     "text": [
      "Best Accuracy is  0.9228846311393284 on Random_State 10\n"
     ]
    }
   ],
   "source": [
    "maxScore=0\n",
    "maxRs=0\n",
    "for i in range(1,100):\n",
    "    x_train, x_test, y_train, y_test = train_test_split(x, y, test_size=0.20, random_state=i)\n",
    "    lm=LinearRegression()\n",
    "    lm.fit(x_train,y_train)\n",
    "    predlm=lm.predict(x_test)\n",
    "    sc=lm.score(x_train,y_train)\n",
    "    if sc>maxScore:\n",
    "        maxScore=sc\n",
    "        maxRs=i\n",
    "print(\"Best Accuracy is \", maxScore,\"on Random_State\",maxRs)"
   ]
  },
  {
   "cell_type": "markdown",
   "metadata": {},
   "source": [
    "We have found best random_state value as 10. We will create our train_test_split using random_state(10)"
   ]
  },
  {
   "cell_type": "markdown",
   "metadata": {},
   "source": [
    "### Creating Model"
   ]
  },
  {
   "cell_type": "markdown",
   "metadata": {},
   "source": [
    "We will apply multiple Regression models for checking the r2_score,mean_squared_error, mean_absolute_error."
   ]
  },
  {
   "cell_type": "code",
   "execution_count": 90,
   "metadata": {},
   "outputs": [],
   "source": [
    "from sklearn.linear_model import LinearRegression\n",
    "from sklearn.linear_model import Lasso, Ridge\n",
    "from sklearn.linear_model import ElasticNet\n",
    "from sklearn.svm import SVR\n",
    "from sklearn.tree import DecisionTreeRegressor\n",
    "from sklearn.neighbors import KNeighborsRegressor\n",
    "from sklearn.ensemble import RandomForestRegressor\n",
    "from sklearn.ensemble import AdaBoostRegressor\n",
    "from sklearn.ensemble import GradientBoostingRegressor\n",
    "\n",
    "from sklearn.model_selection import train_test_split\n",
    "\n",
    "from sklearn.metrics import mean_absolute_error\n",
    "from sklearn.metrics import mean_squared_error\n",
    "from sklearn.metrics import r2_score"
   ]
  },
  {
   "cell_type": "code",
   "execution_count": 91,
   "metadata": {},
   "outputs": [],
   "source": [
    "x_train, x_test, y_train, y_test = train_test_split(x, y, test_size=0.33, random_state=10)"
   ]
  },
  {
   "cell_type": "code",
   "execution_count": 92,
   "metadata": {},
   "outputs": [
    {
     "data": {
      "text/html": [
       "<div>\n",
       "<style scoped>\n",
       "    .dataframe tbody tr th:only-of-type {\n",
       "        vertical-align: middle;\n",
       "    }\n",
       "\n",
       "    .dataframe tbody tr th {\n",
       "        vertical-align: top;\n",
       "    }\n",
       "\n",
       "    .dataframe thead th {\n",
       "        text-align: right;\n",
       "    }\n",
       "</style>\n",
       "<table border=\"1\" class=\"dataframe\">\n",
       "  <thead>\n",
       "    <tr style=\"text-align: right;\">\n",
       "      <th></th>\n",
       "      <th>Modelling Algo</th>\n",
       "      <th>R2_score</th>\n",
       "      <th>mean_absolute_error</th>\n",
       "      <th>mean_squared_error</th>\n",
       "      <th>root_mean_squared_error</th>\n",
       "    </tr>\n",
       "  </thead>\n",
       "  <tbody>\n",
       "    <tr>\n",
       "      <th>0</th>\n",
       "      <td>LinearRegression</td>\n",
       "      <td>0.881216</td>\n",
       "      <td>1.597251</td>\n",
       "      <td>4.267944</td>\n",
       "      <td>2.065900</td>\n",
       "    </tr>\n",
       "    <tr>\n",
       "      <th>1</th>\n",
       "      <td>Lasso</td>\n",
       "      <td>-0.014407</td>\n",
       "      <td>4.995002</td>\n",
       "      <td>36.448072</td>\n",
       "      <td>6.037224</td>\n",
       "    </tr>\n",
       "    <tr>\n",
       "      <th>2</th>\n",
       "      <td>Ridge</td>\n",
       "      <td>0.860674</td>\n",
       "      <td>1.749807</td>\n",
       "      <td>5.006039</td>\n",
       "      <td>2.237418</td>\n",
       "    </tr>\n",
       "    <tr>\n",
       "      <th>3</th>\n",
       "      <td>ElasticNet</td>\n",
       "      <td>0.077376</td>\n",
       "      <td>4.756614</td>\n",
       "      <td>33.150286</td>\n",
       "      <td>5.757628</td>\n",
       "    </tr>\n",
       "    <tr>\n",
       "      <th>4</th>\n",
       "      <td>SVR</td>\n",
       "      <td>0.877812</td>\n",
       "      <td>1.310290</td>\n",
       "      <td>4.390252</td>\n",
       "      <td>2.095293</td>\n",
       "    </tr>\n",
       "    <tr>\n",
       "      <th>5</th>\n",
       "      <td>DecisionTreeRegressor</td>\n",
       "      <td>0.956924</td>\n",
       "      <td>0.992424</td>\n",
       "      <td>1.547727</td>\n",
       "      <td>1.244077</td>\n",
       "    </tr>\n",
       "    <tr>\n",
       "      <th>6</th>\n",
       "      <td>KNeighborsRegressor</td>\n",
       "      <td>0.930025</td>\n",
       "      <td>1.102121</td>\n",
       "      <td>2.514236</td>\n",
       "      <td>1.585634</td>\n",
       "    </tr>\n",
       "    <tr>\n",
       "      <th>7</th>\n",
       "      <td>RandomForestRegressor</td>\n",
       "      <td>0.974262</td>\n",
       "      <td>0.725394</td>\n",
       "      <td>0.924781</td>\n",
       "      <td>0.961655</td>\n",
       "    </tr>\n",
       "    <tr>\n",
       "      <th>8</th>\n",
       "      <td>AdaBoostRegressor</td>\n",
       "      <td>0.959718</td>\n",
       "      <td>0.950588</td>\n",
       "      <td>1.447366</td>\n",
       "      <td>1.203065</td>\n",
       "    </tr>\n",
       "    <tr>\n",
       "      <th>9</th>\n",
       "      <td>GradientBoostingRegressor</td>\n",
       "      <td>0.978485</td>\n",
       "      <td>0.610546</td>\n",
       "      <td>0.773049</td>\n",
       "      <td>0.879232</td>\n",
       "    </tr>\n",
       "  </tbody>\n",
       "</table>\n",
       "</div>"
      ],
      "text/plain": [
       "              Modelling Algo  R2_score  mean_absolute_error  \\\n",
       "0           LinearRegression  0.881216             1.597251   \n",
       "1                      Lasso -0.014407             4.995002   \n",
       "2                      Ridge  0.860674             1.749807   \n",
       "3                 ElasticNet  0.077376             4.756614   \n",
       "4                        SVR  0.877812             1.310290   \n",
       "5      DecisionTreeRegressor  0.956924             0.992424   \n",
       "6        KNeighborsRegressor  0.930025             1.102121   \n",
       "7      RandomForestRegressor  0.974262             0.725394   \n",
       "8          AdaBoostRegressor  0.959718             0.950588   \n",
       "9  GradientBoostingRegressor  0.978485             0.610546   \n",
       "\n",
       "   mean_squared_error  root_mean_squared_error  \n",
       "0            4.267944                 2.065900  \n",
       "1           36.448072                 6.037224  \n",
       "2            5.006039                 2.237418  \n",
       "3           33.150286                 5.757628  \n",
       "4            4.390252                 2.095293  \n",
       "5            1.547727                 1.244077  \n",
       "6            2.514236                 1.585634  \n",
       "7            0.924781                 0.961655  \n",
       "8            1.447366                 1.203065  \n",
       "9            0.773049                 0.879232  "
      ]
     },
     "execution_count": 92,
     "metadata": {},
     "output_type": "execute_result"
    }
   ],
   "source": [
    "models=[LinearRegression(),\n",
    "        Lasso(), Ridge(),\n",
    "        ElasticNet(),\n",
    "        SVR(),\n",
    "        DecisionTreeRegressor(),\n",
    "        KNeighborsRegressor(),\n",
    "        RandomForestRegressor(),\n",
    "        AdaBoostRegressor(),\n",
    "        GradientBoostingRegressor(),\n",
    "      ]\n",
    "model_names=['LinearRegression',\n",
    "        'Lasso', 'Ridge',\n",
    "        'ElasticNet',\n",
    "        'SVR',\n",
    "        'DecisionTreeRegressor',\n",
    "        'KNeighborsRegressor',\n",
    "        'RandomForestRegressor',\n",
    "        'AdaBoostRegressor',\n",
    "        'GradientBoostingRegressor']\n",
    "r2=[]\n",
    "mae=[]\n",
    "mse=[]\n",
    "rmse=[]\n",
    "d={}\n",
    "\n",
    "for model in range(len(models)):\n",
    "    mod=models[model]\n",
    "    mod.fit(x_train,y_train)\n",
    "    pred=mod.predict(x_test)\n",
    "    r2.append(r2_score(y_test,pred))\n",
    "    mae.append(mean_absolute_error(y_test,pred))\n",
    "    mse.append(mean_squared_error(y_test,pred))\n",
    "    rmse.append(np.sqrt(mean_squared_error(y_test,pred)))\n",
    "\n",
    "    \n",
    "d={'Modelling Algo':model_names,'R2_score':r2,\n",
    "   'mean_absolute_error':mae,\n",
    "   'mean_squared_error':mse,\n",
    "   'root_mean_squared_error':rmse}\n",
    "acc_frame=pd.DataFrame(d)\n",
    "acc_frame"
   ]
  },
  {
   "cell_type": "raw",
   "metadata": {},
   "source": [
    "Above model we observe that GradientBoostingRegressor has good R2 score and have less errors."
   ]
  },
  {
   "cell_type": "markdown",
   "metadata": {},
   "source": [
    "### Checking Cross Validation Score"
   ]
  },
  {
   "cell_type": "markdown",
   "metadata": {},
   "source": [
    "Here we check cross validation score to find the best Regression Model"
   ]
  },
  {
   "cell_type": "code",
   "execution_count": 93,
   "metadata": {},
   "outputs": [],
   "source": [
    "from sklearn.model_selection import cross_val_score"
   ]
  },
  {
   "cell_type": "code",
   "execution_count": 94,
   "metadata": {},
   "outputs": [],
   "source": [
    "cross=[]\n",
    "for model in range(len(models)):\n",
    "    scr=cross_val_score(models[model],x,y,cv=5)\n",
    "    cross.append(scr.mean())   "
   ]
  },
  {
   "cell_type": "code",
   "execution_count": 95,
   "metadata": {},
   "outputs": [],
   "source": [
    "difference={'Model name':model_names,'R2_score':r2,\"Cross_val_score\":cross}"
   ]
  },
  {
   "cell_type": "code",
   "execution_count": 96,
   "metadata": {},
   "outputs": [
    {
     "data": {
      "text/html": [
       "<div>\n",
       "<style scoped>\n",
       "    .dataframe tbody tr th:only-of-type {\n",
       "        vertical-align: middle;\n",
       "    }\n",
       "\n",
       "    .dataframe tbody tr th {\n",
       "        vertical-align: top;\n",
       "    }\n",
       "\n",
       "    .dataframe thead th {\n",
       "        text-align: right;\n",
       "    }\n",
       "</style>\n",
       "<table border=\"1\" class=\"dataframe\">\n",
       "  <thead>\n",
       "    <tr style=\"text-align: right;\">\n",
       "      <th></th>\n",
       "      <th>Model name</th>\n",
       "      <th>R2_score</th>\n",
       "      <th>Cross_val_score</th>\n",
       "    </tr>\n",
       "  </thead>\n",
       "  <tbody>\n",
       "    <tr>\n",
       "      <th>0</th>\n",
       "      <td>LinearRegression</td>\n",
       "      <td>0.881216</td>\n",
       "      <td>0.897806</td>\n",
       "    </tr>\n",
       "    <tr>\n",
       "      <th>1</th>\n",
       "      <td>Lasso</td>\n",
       "      <td>-0.014407</td>\n",
       "      <td>0.117676</td>\n",
       "    </tr>\n",
       "    <tr>\n",
       "      <th>2</th>\n",
       "      <td>Ridge</td>\n",
       "      <td>0.860674</td>\n",
       "      <td>0.894037</td>\n",
       "    </tr>\n",
       "    <tr>\n",
       "      <th>3</th>\n",
       "      <td>ElasticNet</td>\n",
       "      <td>0.077376</td>\n",
       "      <td>0.104823</td>\n",
       "    </tr>\n",
       "    <tr>\n",
       "      <th>4</th>\n",
       "      <td>SVR</td>\n",
       "      <td>0.877812</td>\n",
       "      <td>0.927731</td>\n",
       "    </tr>\n",
       "    <tr>\n",
       "      <th>5</th>\n",
       "      <td>DecisionTreeRegressor</td>\n",
       "      <td>0.956924</td>\n",
       "      <td>0.958491</td>\n",
       "    </tr>\n",
       "    <tr>\n",
       "      <th>6</th>\n",
       "      <td>KNeighborsRegressor</td>\n",
       "      <td>0.930025</td>\n",
       "      <td>0.952351</td>\n",
       "    </tr>\n",
       "    <tr>\n",
       "      <th>7</th>\n",
       "      <td>RandomForestRegressor</td>\n",
       "      <td>0.974262</td>\n",
       "      <td>0.974988</td>\n",
       "    </tr>\n",
       "    <tr>\n",
       "      <th>8</th>\n",
       "      <td>AdaBoostRegressor</td>\n",
       "      <td>0.959718</td>\n",
       "      <td>0.950222</td>\n",
       "    </tr>\n",
       "    <tr>\n",
       "      <th>9</th>\n",
       "      <td>GradientBoostingRegressor</td>\n",
       "      <td>0.978485</td>\n",
       "      <td>0.977681</td>\n",
       "    </tr>\n",
       "  </tbody>\n",
       "</table>\n",
       "</div>"
      ],
      "text/plain": [
       "                  Model name  R2_score  Cross_val_score\n",
       "0           LinearRegression  0.881216         0.897806\n",
       "1                      Lasso -0.014407         0.117676\n",
       "2                      Ridge  0.860674         0.894037\n",
       "3                 ElasticNet  0.077376         0.104823\n",
       "4                        SVR  0.877812         0.927731\n",
       "5      DecisionTreeRegressor  0.956924         0.958491\n",
       "6        KNeighborsRegressor  0.930025         0.952351\n",
       "7      RandomForestRegressor  0.974262         0.974988\n",
       "8          AdaBoostRegressor  0.959718         0.950222\n",
       "9  GradientBoostingRegressor  0.978485         0.977681"
      ]
     },
     "execution_count": 96,
     "metadata": {},
     "output_type": "execute_result"
    }
   ],
   "source": [
    "acc_frame=pd.DataFrame(difference)\n",
    "acc_frame"
   ]
  },
  {
   "cell_type": "markdown",
   "metadata": {},
   "source": [
    "***Minimum difference in R2_score and cross validation score is for GradientBoostingRegressor. So \tGradientBoostingRegressor is our best model***"
   ]
  },
  {
   "cell_type": "markdown",
   "metadata": {},
   "source": [
    "### Hyper Tuning "
   ]
  },
  {
   "cell_type": "code",
   "execution_count": 97,
   "metadata": {},
   "outputs": [],
   "source": [
    "from sklearn.model_selection import GridSearchCV"
   ]
  },
  {
   "cell_type": "code",
   "execution_count": 99,
   "metadata": {},
   "outputs": [],
   "source": [
    "parameters = {\n",
    "    \"n_estimators\":[5,50,250,500],\n",
    "    \"max_depth\":[1,3,5,7,9],\n",
    "    \"learning_rate\":[0.01,0.1,1,10,100]}"
   ]
  },
  {
   "cell_type": "code",
   "execution_count": 100,
   "metadata": {},
   "outputs": [],
   "source": [
    "GBR = GridSearchCV(GradientBoostingRegressor(), parameters,cv=5) #Tuning GradientBoostingRegressor"
   ]
  },
  {
   "cell_type": "code",
   "execution_count": 101,
   "metadata": {},
   "outputs": [
    {
     "data": {
      "text/plain": [
       "GridSearchCV(cv=5, estimator=GradientBoostingRegressor(),\n",
       "             param_grid={'learning_rate': [0.01, 0.1, 1, 10, 100],\n",
       "                         'max_depth': [1, 3, 5, 7, 9],\n",
       "                         'n_estimators': [5, 50, 250, 500]})"
      ]
     },
     "execution_count": 101,
     "metadata": {},
     "output_type": "execute_result"
    }
   ],
   "source": [
    "GBR.fit(x_train,y_train)"
   ]
  },
  {
   "cell_type": "code",
   "execution_count": 102,
   "metadata": {},
   "outputs": [
    {
     "data": {
      "text/plain": [
       "{'learning_rate': 0.1, 'max_depth': 3, 'n_estimators': 250}"
      ]
     },
     "execution_count": 102,
     "metadata": {},
     "output_type": "execute_result"
    }
   ],
   "source": [
    "GBR.best_params_ #finding the best parameters for GradientBoostingRegressor hyper tuning"
   ]
  },
  {
   "cell_type": "code",
   "execution_count": 104,
   "metadata": {},
   "outputs": [
    {
     "name": "stdout",
     "output_type": "stream",
     "text": [
      "97.81456845067981\n"
     ]
    }
   ],
   "source": [
    "mod=GradientBoostingRegressor(learning_rate= 0.1, max_depth= 3,n_estimators=250)\n",
    "mod.fit(x_train,y_train)\n",
    "\n",
    "pred=mod.predict(x_test)\n",
    "print(r2_score(y_test,pred)*100)"
   ]
  },
  {
   "cell_type": "markdown",
   "metadata": {},
   "source": [
    "### Lets plot the final Graph for Actual and Predicted output values"
   ]
  },
  {
   "cell_type": "code",
   "execution_count": 105,
   "metadata": {},
   "outputs": [
    {
     "data": {
      "image/png": "[encoded data removed]",
      "text/plain": [
       "<Figure size 576x432 with 1 Axes>"
      ]
     },
     "metadata": {
      "needs_background": "light"
     },
     "output_type": "display_data"
    }
   ],
   "source": [
    "# Final output Graph\n",
    "plt.figure(figsize=(8,6))\n",
    "plt.scatter(x=y_test,y=pred,color=\"g\")\n",
    "plt.plot(y_test,y_test,color=\"r\")\n",
    "plt.xlabel('Actual',fontsize=14)\n",
    "plt.ylabel('Predicted',fontsize=14)\n",
    "plt.title(\"Result Graph\",fontsize=16)\n",
    "plt.show()"
   ]
  },
  {
   "cell_type": "markdown",
   "metadata": {},
   "source": [
    "### Saving the Model"
   ]
  },
  {
   "cell_type": "code",
   "execution_count": 107,
   "metadata": {},
   "outputs": [],
   "source": [
    "import pickle, joblib\n",
    "filename = 'Advertising.pkl'\n",
    "pickle.dump(GBR,open(filename,'wb'))"
   ]
  },
  {
   "cell_type": "code",
   "execution_count": 108,
   "metadata": {},
   "outputs": [
    {
     "data": {
      "text/plain": [
       "array([18.72324674,  8.70557233, 19.05208586, 24.82359748, 21.63955509,\n",
       "       15.27609481, 14.99933553, 22.59574935, 22.5810241 ,  8.74991744,\n",
       "       25.33010648,  9.65664303,  8.33541243, 20.46451806, 20.59293199,\n",
       "       12.91222927, 18.69083584,  4.90220679, 22.12355126, 21.79068107,\n",
       "       15.53919292,  6.08198119, 24.78087797, 16.21918825, 14.29036232,\n",
       "        7.47941695,  9.07374414, 11.0764925 , 23.81663896,  7.47152602,\n",
       "       13.32417667, 22.09603208,  6.98670951,  7.75800171, 12.82303986,\n",
       "       11.82235568,  8.79088648, 14.31038826, 10.32759482, 12.12507128,\n",
       "       11.1104207 , 12.46394005, 16.05650468, 10.08485559, 22.05901842,\n",
       "        8.84560073, 15.01520258, 13.38762049,  6.06833046, 13.42210345,\n",
       "        9.66814264, 13.10077507, 22.96025988, 17.15125527, 12.1794788 ,\n",
       "        8.07087226, 25.70217493, 18.39326782, 11.14091484,  9.88518136,\n",
       "        6.72539979, 13.1162199 , 16.52061559, 11.93043194, 17.73886454,\n",
       "       20.25316975])"
      ]
     },
     "execution_count": 108,
     "metadata": {},
     "output_type": "execute_result"
    }
   ],
   "source": [
    "GBR=joblib.load('Advertising.pkl')\n",
    "Predicted = GBR.predict(x_test)\n",
    "Predicted"
   ]
  },
  {
   "cell_type": "code",
   "execution_count": 109,
   "metadata": {},
   "outputs": [
    {
     "data": {
      "text/plain": [
       "array([18.4,  7.2, 18. , 25.5, 22.6, 14.6, 14.9, 23.7, 22.3,  9.3, 25.4,\n",
       "        8.6,  8.7, 20.1, 19.7, 14. , 19.8,  5.3, 21.8, 22.6, 15.6,  1.6,\n",
       "       24.2, 16. , 14.8,  7. ,  9.5, 10.4, 23.2,  7.6, 12.9, 21.5,  6.9,\n",
       "        7.3, 12.8, 11.8,  8.8, 15. , 10.6, 11.5, 10.8, 13.2, 15. ,  9.6,\n",
       "       23.8,  8.8, 14.7, 13.4,  5.5, 12.2,  9.7, 12.9, 23.8, 18. , 12.5,\n",
       "        8.1, 27. , 18.3, 11.2,  9.7,  6.6, 13.4, 16.9, 12.2, 19.6, 18.9])"
      ]
     },
     "execution_count": 109,
     "metadata": {},
     "output_type": "execute_result"
    }
   ],
   "source": [
    "Final=np.array(y_test)\n",
    "Final"
   ]
  },
  {
   "cell_type": "code",
   "execution_count": 110,
   "metadata": {},
   "outputs": [
    {
     "data": {
      "text/plain": [
       "array([18.72324674,  8.70557233, 19.05208586, 24.82359748, 21.63955509,\n",
       "       15.27609481, 14.99933553, 22.59574935, 22.5810241 ,  8.74991744,\n",
       "       25.33010648,  9.65664303,  8.33541243, 20.46451806, 20.59293199,\n",
       "       12.91222927, 18.69083584,  4.90220679, 22.12355126, 21.79068107,\n",
       "       15.53919292,  6.08198119, 24.78087797, 16.21918825, 14.29036232,\n",
       "        7.47941695,  9.07374414, 11.0764925 , 23.81663896,  7.47152602,\n",
       "       13.32417667, 22.09603208,  6.98670951,  7.75800171, 12.82303986,\n",
       "       11.82235568,  8.79088648, 14.31038826, 10.32759482, 12.12507128,\n",
       "       11.1104207 , 12.46394005, 16.05650468, 10.08485559, 22.05901842,\n",
       "        8.84560073, 15.01520258, 13.38762049,  6.06833046, 13.42210345,\n",
       "        9.66814264, 13.10077507, 22.96025988, 17.15125527, 12.1794788 ,\n",
       "        8.07087226, 25.70217493, 18.39326782, 11.14091484,  9.88518136,\n",
       "        6.72539979, 13.1162199 , 16.52061559, 11.93043194, 17.73886454,\n",
       "       20.25316975])"
      ]
     },
     "execution_count": 110,
     "metadata": {},
     "output_type": "execute_result"
    }
   ],
   "source": [
    "predict=np.array(GBR.predict(x_test))\n",
    "predict"
   ]
  },
  {
   "cell_type": "code",
   "execution_count": 111,
   "metadata": {},
   "outputs": [
    {
     "data": {
      "text/html": [
       "<div>\n",
       "<style scoped>\n",
       "    .dataframe tbody tr th:only-of-type {\n",
       "        vertical-align: middle;\n",
       "    }\n",
       "\n",
       "    .dataframe tbody tr th {\n",
       "        vertical-align: top;\n",
       "    }\n",
       "\n",
       "    .dataframe thead th {\n",
       "        text-align: right;\n",
       "    }\n",
       "</style>\n",
       "<table border=\"1\" class=\"dataframe\">\n",
       "  <thead>\n",
       "    <tr style=\"text-align: right;\">\n",
       "      <th></th>\n",
       "      <th>original</th>\n",
       "      <th>predicted</th>\n",
       "    </tr>\n",
       "  </thead>\n",
       "  <tbody>\n",
       "    <tr>\n",
       "      <th>0</th>\n",
       "      <td>18.4</td>\n",
       "      <td>18.723247</td>\n",
       "    </tr>\n",
       "    <tr>\n",
       "      <th>1</th>\n",
       "      <td>7.2</td>\n",
       "      <td>8.705572</td>\n",
       "    </tr>\n",
       "    <tr>\n",
       "      <th>2</th>\n",
       "      <td>18.0</td>\n",
       "      <td>19.052086</td>\n",
       "    </tr>\n",
       "    <tr>\n",
       "      <th>3</th>\n",
       "      <td>25.5</td>\n",
       "      <td>24.823597</td>\n",
       "    </tr>\n",
       "    <tr>\n",
       "      <th>4</th>\n",
       "      <td>22.6</td>\n",
       "      <td>21.639555</td>\n",
       "    </tr>\n",
       "    <tr>\n",
       "      <th>...</th>\n",
       "      <td>...</td>\n",
       "      <td>...</td>\n",
       "    </tr>\n",
       "    <tr>\n",
       "      <th>61</th>\n",
       "      <td>13.4</td>\n",
       "      <td>13.116220</td>\n",
       "    </tr>\n",
       "    <tr>\n",
       "      <th>62</th>\n",
       "      <td>16.9</td>\n",
       "      <td>16.520616</td>\n",
       "    </tr>\n",
       "    <tr>\n",
       "      <th>63</th>\n",
       "      <td>12.2</td>\n",
       "      <td>11.930432</td>\n",
       "    </tr>\n",
       "    <tr>\n",
       "      <th>64</th>\n",
       "      <td>19.6</td>\n",
       "      <td>17.738865</td>\n",
       "    </tr>\n",
       "    <tr>\n",
       "      <th>65</th>\n",
       "      <td>18.9</td>\n",
       "      <td>20.253170</td>\n",
       "    </tr>\n",
       "  </tbody>\n",
       "</table>\n",
       "<p>66 rows × 2 columns</p>\n",
       "</div>"
      ],
      "text/plain": [
       "    original  predicted\n",
       "0       18.4  18.723247\n",
       "1        7.2   8.705572\n",
       "2       18.0  19.052086\n",
       "3       25.5  24.823597\n",
       "4       22.6  21.639555\n",
       "..       ...        ...\n",
       "61      13.4  13.116220\n",
       "62      16.9  16.520616\n",
       "63      12.2  11.930432\n",
       "64      19.6  17.738865\n",
       "65      18.9  20.253170\n",
       "\n",
       "[66 rows x 2 columns]"
      ]
     },
     "execution_count": 111,
     "metadata": {},
     "output_type": "execute_result"
    }
   ],
   "source": [
    "df_pred=pd.DataFrame({\"original\":Final,\"predicted\":predict},index=range(len(Final)))\n",
    "df_pred"
   ]
  },
  {
   "cell_type": "markdown",
   "metadata": {},
   "source": [
    "***Above table is the original Rings and predicted Sales of Advertising***"
   ]
  },
  {
   "cell_type": "markdown",
   "metadata": {},
   "source": [
    "### Conclusion"
   ]
  },
  {
   "cell_type": "raw",
   "metadata": {},
   "source": [
    "According to our output, we saw that the original testing values are as much similar to our GradientBoostingRegressor model predicted values."
   ]
  }
 ],
 "metadata": {
  "kernelspec": {
   "display_name": "Python 3",
   "language": "python",
   "name": "python3"
  },
  "language_info": {
   "codemirror_mode": {
    "name": "ipython",
    "version": 3
   },
   "file_extension": ".py",
   "mimetype": "text/x-python",
   "name": "python",
   "nbconvert_exporter": "python",
   "pygments_lexer": "ipython3",
   "version": "3.8.5"
  }
 },
 "nbformat": 4,
 "nbformat_minor": 4
}
